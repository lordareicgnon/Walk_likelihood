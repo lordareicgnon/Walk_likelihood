{
 "cells": [
  {
   "cell_type": "markdown",
   "metadata": {},
   "source": [
    "# Testing WLA and WLCF on sample networks\n",
    "\n",
    "We test the algorithms Walk-likelihood Algorithm (WLA) and Walk-likelihood Community Finder (WLCF) on 3 sample networks\n",
    "1. Dolphins network\n",
    "2. Les Miserables weighted network\n",
    "3. LFR benchmark network"
   ]
  },
  {
   "cell_type": "markdown",
   "metadata": {},
   "source": [
    "## Dolphins Network\n",
    "\n",
    "A network of a group of dolphins from Doubtful Sound, New Zealand observed by David Lusseau, a researcher at the University of Aberdeen. Every time a school of dolphins was encountered, each dolphin in the group was identified using natural markings on the dorsal fin. This information was utilized to form a social network where each node represents a dolphin and edges represent their preferred companionship.\n",
    " \n",
    " Total nodes $N=62$\n",
    "  \n",
    " Average degree $\\langle w \\rangle =5.13$"
   ]
  },
  {
   "cell_type": "markdown",
   "metadata": {},
   "source": [
    "### 1. Testing WLA for 5 communities"
   ]
  },
  {
   "cell_type": "code",
   "execution_count": 1,
   "metadata": {},
   "outputs": [
    {
     "name": "stdout",
     "output_type": "stream",
     "text": [
      "Communities\n",
      "{'Community 0': [12, 14, 16, 33, 34, 37, 38, 43, 44, 46, 49, 52, 53, 58, 61], 'Community 1': [1, 5, 6, 9, 13, 17, 22, 25, 26, 27, 31, 32, 41, 48, 54, 56, 57, 60], 'Community 2': [4, 11, 15, 18, 21, 23, 24, 29, 35, 45, 51, 55], 'Community 3': [7, 19, 28, 30, 39, 47], 'Community 4': [0, 2, 3, 8, 10, 20, 36, 40, 42, 50, 59]}\n",
      "\n",
      "Communities of each node\n",
      "[4 1 4 4 2 1 1 3 4 1 4 2 0 1 0 2 0 1 2 3 4 2 1 2 2 1 1 1 3 2 3 1 1 0 0 2 4\n",
      " 0 0 3 4 1 4 0 0 2 0 3 1 0 4 2 0 0 1 2 1 1 0 4 1 0]\n",
      "\n",
      "Modularity=0.47903563941299787\n"
     ]
    }
   ],
   "source": [
    "import numpy as np\n",
    "from walk_likelihood import walk_likelihood\n",
    "X=np.load('Sample_networks/dolphins.npy')\n",
    "model=walk_likelihood(X)\n",
    "model.WLA(m=5)\n",
    "print('Communities')\n",
    "print(model.communities)\n",
    "print('\\nCommunities of each node')\n",
    "print(model.comm_id)\n",
    "print('\\nModularity='+str(model.modularity))"
   ]
  },
  {
   "cell_type": "markdown",
   "metadata": {},
   "source": [
    "### 2. Testing WLCF"
   ]
  },
  {
   "cell_type": "code",
   "execution_count": 2,
   "metadata": {
    "scrolled": true
   },
   "outputs": [
    {
     "name": "stdout",
     "output_type": "stream",
     "text": [
      "WLCF found 4 communities in the network\n",
      "\n",
      "Communities\n",
      "{'Community 0': [1, 5, 6, 7, 9, 13, 17, 19, 22, 25, 26, 27, 31, 32, 39, 41, 48, 54, 56, 57, 60], 'Community 1': [0, 2, 10, 28, 30, 42, 47], 'Community 2': [4, 11, 15, 18, 21, 23, 24, 29, 35, 45, 51, 55], 'Community 3': [3, 8, 12, 14, 16, 20, 33, 34, 36, 37, 38, 40, 43, 44, 46, 49, 50, 52, 53, 58, 59, 61]}\n",
      "\n",
      "Communities of each node\n",
      "[1 0 1 3 2 0 0 0 3 0 1 2 3 0 3 2 3 0 2 0 3 2 0 2 2 0 0 0 1 2 1 0 0 3 3 2 3\n",
      " 3 3 0 3 0 1 3 3 2 3 1 0 3 3 2 3 3 0 2 0 0 3 3 0 3]\n",
      "\n",
      "Modularity=0.5202919188323247\n"
     ]
    }
   ],
   "source": [
    "model.WLCF()\n",
    "print('WLCF found '+str(model.m)+' communities in the network')\n",
    "print('\\nCommunities')\n",
    "print(model.communities)\n",
    "print('\\nCommunities of each node')\n",
    "print(model.comm_id)\n",
    "print('\\nModularity='+str(model.modularity))"
   ]
  },
  {
   "cell_type": "markdown",
   "metadata": {},
   "source": [
    "## Les Miserables weighted Network\n",
    "\n",
    "A network of co-appearances of the characters in the novel Les Mis ́erables by Victor Hugo. Each node represents a character and each edge represents their co-occurrence in the novel’s chapters. Edge weights are the number of chapters in which the two characters have appeared together.\n",
    "\n",
    " Total nodes $N=77$\n",
    "  \n",
    " Average outward rate $\\langle w \\rangle =21.29$"
   ]
  },
  {
   "cell_type": "markdown",
   "metadata": {},
   "source": [
    "### 1. Testing WLA for 7 communities for $l_{max}=5$"
   ]
  },
  {
   "cell_type": "code",
   "execution_count": 3,
   "metadata": {},
   "outputs": [
    {
     "name": "stdout",
     "output_type": "stream",
     "text": [
      "Communities\n",
      "{'Community 0': [0, 1, 2, 3, 4, 5, 6, 7, 8, 9, 29, 34, 35, 36, 37, 38], 'Community 1': [46, 47, 59, 60, 61, 63, 64, 65, 66, 67, 73, 74, 76], 'Community 2': [10, 11, 13, 14, 15, 26, 27, 28, 30, 31, 32, 33, 43, 44, 45, 55, 72], 'Community 3': [39, 49, 50, 51, 52, 53, 54, 56], 'Community 4': [12, 16, 17, 18, 19, 20, 21, 22, 23], 'Community 5': [24, 25, 40, 41, 42, 68, 69, 70, 71, 75], 'Community 6': [48, 57, 58, 62]}\n",
      "\n",
      "Communities of each node\n",
      "[0 0 0 0 0 0 0 0 0 0 2 2 4 2 2 2 4 4 4 4 4 4 4 4 5 5 2 2 2 0 2 2 2 2 0 0 0\n",
      " 0 0 3 5 5 5 2 2 2 1 1 6 3 3 3 3 3 3 2 3 6 6 1 1 1 6 1 1 1 1 1 5 5 5 5 2 1\n",
      " 1 5 1]\n",
      "\n",
      "Modularity=0.4364046698393813\n"
     ]
    }
   ],
   "source": [
    "X=np.load('Sample_networks/Les_miserable_weighted.npy')\n",
    "model=walk_likelihood(X)\n",
    "model.WLA(m=7,l_max=5)\n",
    "print('Communities')\n",
    "print(model.communities)\n",
    "print('\\nCommunities of each node')\n",
    "print(model.comm_id)\n",
    "print('\\nModularity='+str(model.modularity))"
   ]
  },
  {
   "cell_type": "markdown",
   "metadata": {},
   "source": [
    "### 2. Testing WLCF for  $l_{max}=4$ "
   ]
  },
  {
   "cell_type": "code",
   "execution_count": 4,
   "metadata": {},
   "outputs": [
    {
     "name": "stdout",
     "output_type": "stream",
     "text": [
      "WLCF found 6 communities in the network\n",
      "\n",
      "Communities\n",
      "{'Community 0': [10, 11, 13, 14, 15, 26, 27, 28, 31, 32, 33, 39, 43, 44, 45, 49, 51, 52, 53, 54, 55, 56, 72], 'Community 1': [24, 25, 40, 41, 42, 50, 68, 69, 70, 71, 75], 'Community 2': [12, 16, 17, 18, 19, 20, 21, 22, 23, 30], 'Community 3': [46, 47, 48, 57, 58, 59, 60, 61, 62, 63, 64, 65, 66, 67, 73, 74, 76], 'Community 4': [29, 34, 35, 36, 37, 38], 'Community 5': [0, 1, 2, 3, 4, 5, 6, 7, 8, 9]}\n",
      "\n",
      "Communities of each node\n",
      "[5 5 5 5 5 5 5 5 5 5 0 0 2 0 0 0 2 2 2 2 2 2 2 2 1 1 0 0 0 4 2 0 0 0 4 4 4\n",
      " 4 4 0 1 1 1 0 0 0 3 3 3 0 1 0 0 0 0 0 0 3 3 3 3 3 3 3 3 3 3 3 1 1 1 1 0 3\n",
      " 3 1 3]\n",
      "\n",
      "Modularity=0.5651888756692445\n"
     ]
    }
   ],
   "source": [
    "model.WLCF(l_max=4)\n",
    "print('WLCF found '+str(model.m)+' communities in the network')\n",
    "print('\\nCommunities')\n",
    "print(model.communities)\n",
    "print('\\nCommunities of each node')\n",
    "print(model.comm_id)\n",
    "print('\\nModularity='+str(model.modularity))"
   ]
  },
  {
   "cell_type": "markdown",
   "metadata": {},
   "source": [
    "## LFR benchmark network\n",
    "\n",
    "Artifically generated network proposed by Lancichinetti, Fortunato and Radicchi which are characterized by power-law distributions of the node degree and the community size. Since this is an artificially generated network, we know the community identity of each node. Sample_LFR.npz is the network file and Sample_LFR_target.npy contains the expected community structure.\n",
    "\n",
    " Total nodes $N=8916$\n",
    " \n",
    " Maximum degree = 891\n",
    " \n",
    " Maximum community size = 891\n",
    " \n",
    " Average degree $\\langle w \\rangle =20$\n",
    " \n",
    " Community size distribution exponent $\\beta$ = -1\n",
    "  \n",
    " Degree distribution exponent $\\gamma$ = -2\n",
    " \n",
    " Mixing coefficient $\\mu$ = 0.45"
   ]
  },
  {
   "cell_type": "markdown",
   "metadata": {},
   "source": [
    "### 1. Testing WLA for 13 communities"
   ]
  },
  {
   "cell_type": "code",
   "execution_count": 5,
   "metadata": {},
   "outputs": [
    {
     "name": "stdout",
     "output_type": "stream",
     "text": [
      "Normalized mutual information = 0.8757779350907517\n"
     ]
    }
   ],
   "source": [
    "import scipy.sparse\n",
    "from sklearn.metrics.cluster import normalized_mutual_info_score as nmi\n",
    "X=scipy.sparse.load_npz('Sample_networks/Sample_LFR.npz')\n",
    "model=walk_likelihood(X)\n",
    "model.WLA(m=13)\n",
    "target=np.load('Sample_networks/Sample_LFR_target.npy')\n",
    "print('Normalized mutual information = '+str(nmi(model.comm_id,target)))"
   ]
  },
  {
   "cell_type": "markdown",
   "metadata": {},
   "source": [
    "### 2. Testing WLCF"
   ]
  },
  {
   "cell_type": "code",
   "execution_count": 6,
   "metadata": {},
   "outputs": [
    {
     "name": "stdout",
     "output_type": "stream",
     "text": [
      "WLCF found 17 communities in the network\n",
      "Normalized mutual information = 0.9634085562926569\n"
     ]
    }
   ],
   "source": [
    "model.WLCF()\n",
    "print('WLCF found '+str(model.m)+' communities in the network')\n",
    "print('Normalized mutual information = '+str(nmi(model.comm_id,target)))"
   ]
  }
 ],
 "metadata": {
  "kernelspec": {
   "display_name": "Python 3",
   "language": "python",
   "name": "python3"
  },
  "language_info": {
   "codemirror_mode": {
    "name": "ipython",
    "version": 3
   },
   "file_extension": ".py",
   "mimetype": "text/x-python",
   "name": "python",
   "nbconvert_exporter": "python",
   "pygments_lexer": "ipython3",
   "version": "3.8.5"
  }
 },
 "nbformat": 4,
 "nbformat_minor": 4
}
