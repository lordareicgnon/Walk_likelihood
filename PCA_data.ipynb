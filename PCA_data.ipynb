{
 "cells": [
  {
   "cell_type": "code",
   "execution_count": 1,
   "metadata": {},
   "outputs": [],
   "source": [
    "import csv\n",
    "import numpy as np\n",
    "file_name='Conectomics_MIRIAM_V2_Clean_2021_06_10.csv'\n",
    "in_file =open(file_name,\"r\")\n",
    "\n",
    "lines = in_file.readlines()\n",
    "in_file.close()\n",
    "N=1001\n",
    "m=42\n",
    "A=np.zeros((N,m))\n",
    "mask=np.zeros((N,m))\n",
    "i=-1\n",
    "for line in lines:\n",
    "    ln=line.split(',')\n",
    "    i+=1\n",
    "    j=-1\n",
    "    for l in ln:\n",
    "        j+=1\n",
    "        if not (l=='' or l== '\\n'):\n",
    "            mask[i,j]=1\n",
    "            #print(i)\n",
    "            #print(j)\n",
    "            #print(l)\n",
    "            A[i,j]=float(l)\n",
    "\n",
    "\n",
    "mu=sum(A)/sum(mask)\n",
    "x2=sum(A*A)/sum(mask)\n",
    "sig=x2-mu*mu\n",
    "#m=m-7\n",
    "#A=(A-mu)/sig\n",
    "#remove={41, 10, 11, 12, 15, 19, 25}\n",
    "#contain=list(set(range(1,43))-remove)\n",
    "#print(contain)\n",
    "val=(A-mu)/np.sqrt(sig)"
   ]
  },
  {
   "cell_type": "code",
   "execution_count": null,
   "metadata": {},
   "outputs": [],
   "source": []
  },
  {
   "cell_type": "code",
   "execution_count": 36,
   "metadata": {},
   "outputs": [
    {
     "name": "stdout",
     "output_type": "stream",
     "text": [
      "[0.2165261  0.08078071 0.06631141 0.06110756 0.04889417 0.04478783\n",
      " 0.0384416  0.03627049 0.03265536 0.03103511]\n"
     ]
    }
   ],
   "source": [
    "import numpy as np\n",
    "from sklearn.decomposition import PCA\n",
    "pca = PCA(n_components=10)\n",
    "pca.fit(val)#[:,0:28])\n",
    "print(pca.explained_variance_ratio_)"
   ]
  },
  {
   "cell_type": "code",
   "execution_count": 37,
   "metadata": {},
   "outputs": [
    {
     "data": {
      "image/png": "[encoded data removed]",
      "text/plain": [
       "<Figure size 432x288 with 1 Axes>"
      ]
     },
     "metadata": {
      "needs_background": "light"
     },
     "output_type": "display_data"
    }
   ],
   "source": [
    "a=pca.components_\n",
    "import matplotlib.pyplot as plt\n",
    "plt.bar(range(42),a[0,:])\n",
    "plt.show()"
   ]
  },
  {
   "cell_type": "code",
   "execution_count": 40,
   "metadata": {},
   "outputs": [
    {
     "data": {
      "image/png": "[encoded data removed]",
      "text/plain": [
       "<Figure size 432x288 with 1 Axes>"
      ]
     },
     "metadata": {
      "needs_background": "light"
     },
     "output_type": "display_data"
    }
   ],
   "source": [
    "V=val[:,0:42].dot(np.transpose(a))\n",
    "plt.scatter(V[:,0],V[:,1])\n",
    "plt.show()"
   ]
  },
  {
   "cell_type": "code",
   "execution_count": 7,
   "metadata": {},
   "outputs": [
    {
     "name": "stdout",
     "output_type": "stream",
     "text": [
      "13\n"
     ]
    }
   ],
   "source": []
  },
  {
   "cell_type": "code",
   "execution_count": 8,
   "metadata": {},
   "outputs": [
    {
     "data": {
      "text/plain": [
       "13"
      ]
     },
     "execution_count": 8,
     "metadata": {},
     "output_type": "execute_result"
    }
   ],
   "source": []
  },
  {
   "cell_type": "code",
   "execution_count": 123,
   "metadata": {},
   "outputs": [
    {
     "ename": "NameError",
     "evalue": "name 'PCA' is not defined",
     "output_type": "error",
     "traceback": [
      "\u001b[0;31m---------------------------------------------------------------------------\u001b[0m",
      "\u001b[0;31mNameError\u001b[0m                                 Traceback (most recent call last)",
      "\u001b[0;32m<ipython-input-123-6452235876cc>\u001b[0m in \u001b[0;36m<module>\u001b[0;34m\u001b[0m\n\u001b[0;32m----> 1\u001b[0;31m \u001b[0mpca2\u001b[0m \u001b[0;34m=\u001b[0m \u001b[0mPCA\u001b[0m\u001b[0;34m(\u001b[0m\u001b[0mn_components\u001b[0m\u001b[0;34m=\u001b[0m\u001b[0;36m13\u001b[0m\u001b[0;34m)\u001b[0m\u001b[0;34m\u001b[0m\u001b[0;34m\u001b[0m\u001b[0m\n\u001b[0m\u001b[1;32m      2\u001b[0m \u001b[0mpca2\u001b[0m\u001b[0;34m.\u001b[0m\u001b[0mfit\u001b[0m\u001b[0;34m(\u001b[0m\u001b[0mval\u001b[0m\u001b[0;34m)\u001b[0m\u001b[0;31m#[:,0:28])\u001b[0m\u001b[0;34m\u001b[0m\u001b[0;34m\u001b[0m\u001b[0m\n\u001b[1;32m      3\u001b[0m \u001b[0mprint\u001b[0m\u001b[0;34m(\u001b[0m\u001b[0mpca2\u001b[0m\u001b[0;34m.\u001b[0m\u001b[0mexplained_variance_ratio_\u001b[0m\u001b[0;34m)\u001b[0m\u001b[0;34m\u001b[0m\u001b[0;34m\u001b[0m\u001b[0m\n\u001b[1;32m      4\u001b[0m \u001b[0ma\u001b[0m\u001b[0;34m=\u001b[0m\u001b[0mpca2\u001b[0m\u001b[0;34m.\u001b[0m\u001b[0mcomponents\u001b[0m\u001b[0;34m\u001b[0m\u001b[0;34m\u001b[0m\u001b[0m\n",
      "\u001b[0;31mNameError\u001b[0m: name 'PCA' is not defined"
     ]
    }
   ],
   "source": []
  },
  {
   "cell_type": "code",
   "execution_count": 1,
   "metadata": {},
   "outputs": [
    {
     "name": "stdout",
     "output_type": "stream",
     "text": [
      "13\n",
      "[1. 1. 1. 1. 1. 1. 1. 1. 1. 1. 1. 1. 1.]\n"
     ]
    }
   ],
   "source": [
    "from sklearn.datasets import load_wine\n",
    "data = load_wine()\n",
    "X=(data['data'])\n",
    "print(len(X[0,:])) \n",
    "\n",
    "import numpy as np\n",
    "mu=np.mean(X,axis=0)\n",
    "len(mu)\n",
    "import numpy as np \n",
    "X=(X-mu)/np.std(X,axis=0)\n",
    "print(np.std(X,axis=0))"
   ]
  },
  {
   "cell_type": "code",
   "execution_count": 43,
   "metadata": {},
   "outputs": [],
   "source": [
    "def mat(sig,W,X):\n",
    "    #W=W*12/sum(W)\n",
    "    W=W*sig\n",
    "    Xs=X*abs(W)#**0.5\n",
    "    A=Xs.dot(np.transpose(X))\n",
    "    A=np.exp(2*A-np.diag(A)-np.diag(A)[:,None])\n",
    "    #A=A/(1+A)\n",
    "    np.fill_diagonal(A,0)\n",
    "    return A\n",
    "\n",
    "def mat2(W,X):\n",
    "    Xs=X/abs(W)#**0.5\n",
    "    A=Xs.dot(np.transpose(Xs))\n",
    "    A=np.exp(2*A-np.diag(A)-np.diag(A)[:,None])\n",
    "    #A=A/(1+A)\n",
    "    np.fill_diagonal(A,0)\n",
    "    return A\n",
    "\n",
    "def loss(W,X,U):\n",
    "    A=mat(W,X)\n",
    "    L=-np.sum(np.log(sum(A.dot(U)))+sum(np.log(sum(A))))\n",
    "    return L\n",
    "\n",
    "def dloss1(A,U):\n",
    "    Del=U.dot(np.transpose(U))\n",
    "    dL=(2*Del-1)\n",
    "    return dL\n",
    "\n",
    "def dloss4(A,U):\n",
    "    A2=A+0\n",
    "    np.fill_diagonal(A2,0)\n",
    "    Del=U.dot(np.transpose(U))\n",
    "    dL=Del/sum(A2*Del)[:,None]-1/sum(A2)[:,None]\n",
    "    return dL\n",
    "\n",
    "def dloss2(A,U):\n",
    "    A=A+1\n",
    "    Del=U.dot(np.transpose(U))\n",
    "    dL=Del/sum(A)[:,None]-sum(A*Del)[:,None]/(sum(A)*sum(A))[:,None]\n",
    "    return dL\n",
    "\n",
    "def dloss3(A,U):\n",
    "    Del=U.dot(np.transpose(U))\n",
    "    dL=Del/(np.sum(A*Del))-1/(np.sum(A))\n",
    "    return dL\n",
    "\n",
    "def dloss5(A,U):\n",
    "    Ws=sum(A)\n",
    "    B=U.dot(U.T*Ws/sum(U)[:,None])\n",
    "    dL=2*(B-sum(B*U.dot((U/sum(U)).T)))\n",
    "    return dL\n",
    "\n",
    "def grad1(W,A,X,U):\n",
    "    B=2*A*dloss5(A,U)\n",
    "    B2=B+np.transpose(B)\n",
    "    np.fill_diagonal(B2,np.diag(B2)-sum(B2))\n",
    "    g=sum(B2.dot(X)*X)*(2*(W>0)-1)\n",
    "    return -g\n",
    "\n",
    "def grad2(W,A,X,U):\n",
    "    B=2*A*dloss4(A,U)\n",
    "    B2=B+np.transpose(B)\n",
    "    np.fill_diagonal(B2,np.diag(B2)-sum(B2))\n",
    "    g=sum(B2.dot(X)*X)*(2*(W>0)-1)\n",
    "    #g=-sum(B2.dot(X)*X)*2/(W*W*W)\n",
    "    return -g\n",
    "\n",
    "def grad_sig(sig,A,U,X,W):\n",
    "    Xs=X*abs(W)#**0.5\n",
    "    B=Xs.dot(np.transpose(X))\n",
    "    B=(2*A-np.diag(B)-np.diag(B)[:,None])\n",
    "    return np.sum(dloss4(A,U)*A*(1-A)*B)"
   ]
  },
  {
   "cell_type": "code",
   "execution_count": 115,
   "metadata": {},
   "outputs": [],
   "source": [
    "def loss(A,ket,lm=0):\n",
    "    s=1\n",
    "    dketb=A.dot(ket)\n",
    "    ketb=dketb\n",
    "    Ws=sum(A)\n",
    "    for i in range(lm):\n",
    "        dketb=A.dot(dketb/Ws[:,None])\n",
    "        ketb=ketb+dketb\n",
    "    Ks=np.dot(np.transpose(ketb),ket)\n",
    "    smk=(np.diagonal(Ks)>0)\n",
    "    if (np.prod(smk)==0):\n",
    "        ket=ket[:,smk]\n",
    "        ketpr=ketpr[:,smk]\n",
    "        ketb=ketb[:,smk]\n",
    "        Ks=Ks[smk,:][:,smk]\n",
    "        m2=len(ket[0,:])\n",
    "    wtots=np.dot(np.transpose(Ws),ket)\n",
    "    score=(Ks/wtots)\n",
    "    fac=1/np.diagonal(score)\n",
    "    lg_score=((np.log(score+0.00000001*(score==0)/wtots)).astype('float'))*fac[:,None]\n",
    "    score=score*fac[:,None]\n",
    "    F=s*(np.dot(ketb,lg_score)-np.outer(Ws,sum((score))))\n",
    "    G=np.sum(np.exp(F),axis=1)\n",
    "    G=G+(G==0)\n",
    "    ls=np.sum((F-np.log(G[:,None]))*ket)\n",
    "    return ls\n",
    "\n",
    "def grad2(sig,W,X,U):\n",
    "    A=mat(sig,W,X)\n",
    "    dW=0.0001\n",
    "    ls=loss(A,U)\n",
    "    l=len(W)\n",
    "    W2=W.copy()\n",
    "    dl=W.copy()\n",
    "    dl[:]=-ls\n",
    "    for i in range(l):\n",
    "        W2[i]+=dW\n",
    "        A2=mat(sig,W2,X)\n",
    "        ls2=loss(A2,U)\n",
    "        dl[i]+=ls2\n",
    "        W2[i]-=dW\n",
    "    return -dl/dW    "
   ]
  },
  {
   "cell_type": "code",
   "execution_count": 78,
   "metadata": {},
   "outputs": [],
   "source": [
    "def mat(W,X):\n",
    "    Xs=X.dot(W)\n",
    "    A=Xs.dot(np.transpose(Xs))\n",
    "    A=np.exp(2*A-np.diag(A)-np.diag(A)[:,None])\n",
    "    np.fill_diagonal(A,0)\n",
    "    return A\n",
    "\n",
    "def loss(W,X,U):\n",
    "    A=mat(W,X)\n",
    "    L=-np.sum(np.log(sum(A.dot(U)))+sum(np.log(sum(A))))\n",
    "    return L\n",
    "\n",
    "def dloss1(A,U):\n",
    "    A2=A+0\n",
    "    np.fill_diagonal(A2,0)\n",
    "    A3=A2/sum(A2)[:,None]\n",
    "    Del=U.dot(np.transpose(U))\n",
    "    dL=Del/sum(A2*Del)[:,None]-1/sum(A2)[:,None]\n",
    "    dL1=dL\n",
    "    dL2=dL\n",
    "    for i in range(0):\n",
    "        dL2+=dL.dot(A3)+A3.dot(dL2)\n",
    "        dL1+=dL2\n",
    "    return dL1\n",
    "\n",
    "def dloss2(A,U):\n",
    "    A=A+1\n",
    "    Del=U.dot(np.transpose(U))\n",
    "    dL=Del/sum(A)[:,None]-sum(A*Del)[:,None]/(sum(A)*sum(A))[:,None]\n",
    "    return dL\n",
    "\n",
    "def dloss3(A,U):\n",
    "    Del=U.dot(np.transpose(U))\n",
    "    dL=Del/(np.sum(A*Del))-1/(np.sum(A))\n",
    "    return dL\n",
    "\n",
    "def grad(W,A,X,U):\n",
    "    B=2*A*dloss4(A,U)\n",
    "    B2=B+np.transpose(B)\n",
    "    np.fill_diagonal(B2,np.diag(B2)-sum(B2))\n",
    "    g=np.transpose(X).dot(B2).dot(X.dot(W))\n",
    "    return -g"
   ]
  },
  {
   "cell_type": "code",
   "execution_count": 149,
   "metadata": {},
   "outputs": [
    {
     "name": "stdout",
     "output_type": "stream",
     "text": [
      "[1. 1. 1. 1. 1. 1. 1. 1. 1. 1. 1. 1. 1. 1. 1. 1. 1. 1.]\n"
     ]
    }
   ],
   "source": [
    "#W=np.random.random((18,2))\n",
    "W=np.random.random(18)\n",
    "prm=np.array(range(178))\n",
    "X3=np.concatenate((X,2*np.random.random((178,5))),axis=1)\n",
    "mu=np.mean(X3,axis=0)\n",
    "X3=(X3-mu)/np.std(X3,axis=0)\n",
    "prm=np.random.permutation(178)[0:178]\n",
    "X2=X3[prm,:]\n",
    "file1 = open('wine_with_random_data.csv', 'w')\n",
    "#for i in range(178):\n",
    "#    st=str(list(X2[i,:]))[1:-1]\n",
    "#    file1.write(st+'\\n')\n",
    "file1.close()    \n",
    "A=mat(1,W,X3)\n",
    "tr=data['target']\n",
    "file1 = open('target_values.csv', 'w')\n",
    "for i in range(178):\n",
    "    file1.write(str(tr[i])+'\\n')\n",
    "file1.close()    \n",
    "U=np.zeros((178,3))\n",
    "U[range(178),tr]=1\n",
    "U2=U[prm,:]\n",
    "U2[np.random.permutation(178)[121:178],:]=0\n",
    "print(np.std(X2,axis=0))"
   ]
  },
  {
   "cell_type": "code",
   "execution_count": null,
   "metadata": {},
   "outputs": [],
   "source": []
  },
  {
   "cell_type": "code",
   "execution_count": null,
   "metadata": {},
   "outputs": [],
   "source": []
  },
  {
   "cell_type": "code",
   "execution_count": 44,
   "metadata": {},
   "outputs": [
    {
     "data": {
      "text/plain": [
       "'4, 5, 6'"
      ]
     },
     "execution_count": 44,
     "metadata": {},
     "output_type": "execute_result"
    }
   ],
   "source": [
    "a=[4,5,6]\n",
    "str(a)[1:-1]"
   ]
  },
  {
   "cell_type": "code",
   "execution_count": 140,
   "metadata": {},
   "outputs": [
    {
     "name": "stdout",
     "output_type": "stream",
     "text": [
      "[ 2.74933019  4.86859188  4.61845631  2.92359605  5.43977512  2.5522745\n",
      "  0.73124258  6.33516316  3.91194174  1.89187167  1.24493573  0.96293025\n",
      "  0.69050826  7.46945666 10.15932642  6.8862039   8.06958589  5.54475921]\n"
     ]
    }
   ],
   "source": [
    "print(grad2(1,W,X2,U2))"
   ]
  },
  {
   "cell_type": "code",
   "execution_count": 150,
   "metadata": {},
   "outputs": [],
   "source": [
    "#W=theta_0\n",
    "#W=W[0:11]\n",
    "#W=np.random.random(15)\n",
    "W[:]=1   \n",
    "\n",
    "theta_0 = W\n",
    "sig_0=(1)\n",
    "#X2=np.concatenate((X2[:,0:4],X2[:,6:14]),axis=1)\n",
    "#X2=X2[:,0:11]"
   ]
  },
  {
   "cell_type": "code",
   "execution_count": null,
   "metadata": {},
   "outputs": [],
   "source": []
  },
  {
   "cell_type": "code",
   "execution_count": 151,
   "metadata": {},
   "outputs": [
    {
     "name": "stdout",
     "output_type": "stream",
     "text": [
      "[ 0.10867382 -0.          0.087301    0.06950043 -0.         -0.\n",
      "  0.04280415 -0.          0.0883109   0.18630498  0.10990164  0.02719397\n",
      "  0.11448599 -0.         -0.          0.20835778 -0.         -0.        ]\n"
     ]
    }
   ],
   "source": [
    "for i in range(1):\n",
    "    if (i%2)==0:\n",
    "        grad=grad2\n",
    "    #else:\n",
    "    #    grad=grad1\n",
    "    alpha = 0.01\n",
    "    beta_1 = 0.9\n",
    "    beta_2 = 0.999\t\t\t\t\t\t#initialize the values of the parameters\n",
    "    epsilon = 1e-8\n",
    "    #theta_0 = W\n",
    "    m_t = 0\n",
    "    v_t = 0\n",
    "    t = 0\n",
    "\n",
    "    for cnt in range(10000):\n",
    "        t+=1\n",
    "        #if (t%100)==0:\n",
    "        #    C=theta_0.dot(np.transpose(theta_0))\n",
    "        #    pca2 = PCA(n_components=2)\n",
    "        #    pca2.fit(C)\n",
    "        #    a=np.transpose(pca2.components_)*(pca2.explained_variance_)**(0.5)\n",
    "        #print(t)\n",
    "        A=mat(sig_0,theta_0,X2)\n",
    "        g_t = grad(sig_0,theta_0,X2,U2)\t\t#computes the gradient of the stochastic function\n",
    "        m_t = beta_1*m_t + (1-beta_1)*g_t\t#updates the moving averages of the gradient\n",
    "        v_t = beta_2*v_t + (1-beta_2)*(g_t*g_t)\t#updates the moving averages of the squared gradient\n",
    "        m_cap = m_t/(1-(beta_1**t))\t\t#calculates the bias-corrected estimates\n",
    "        v_cap = v_t/(1-(beta_2**t))\t\t#calculates the bias-corrected estimates\n",
    "        theta_0_prev = theta_0\n",
    "        theta_0 = theta_0 - (alpha*m_cap)/(np.sqrt(v_cap)+epsilon)#-alpha*(np.random.random()-0.5)\t#updates the parameters\n",
    "        theta_0= theta_0*(theta_0>0)\n",
    "        #theta_0=theta_0/sum(theta_0)\n",
    "        if(theta_0 == theta_0_prev).all():\t\t#checks if it is converged or not\n",
    "            break\n",
    "    print(theta_0)"
   ]
  },
  {
   "cell_type": "code",
   "execution_count": 41,
   "metadata": {},
   "outputs": [
    {
     "name": "stdout",
     "output_type": "stream",
     "text": [
      "250.4079265449998\n"
     ]
    }
   ],
   "source": [
    "alpha = 0.01\n",
    "beta_1 = 0.9\n",
    "beta_2 = 0.999\t\t\t\t\t\t#initialize the values of the parameters\n",
    "epsilon = 1e-8\n",
    "#theta_0 = W\n",
    "#sig_0=200\n",
    "m_t = 0\n",
    "v_t = 0\n",
    "t = 0\n",
    "\n",
    "for cnt in range(10000):\n",
    "    t+=1\n",
    "    #if (t%100)==0:\n",
    "    #    C=theta_0.dot(np.transpose(theta_0))\n",
    "    #    pca2 = PCA(n_components=2)\n",
    "    #    pca2.fit(C)\n",
    "    #    a=np.transpose(pca2.components_)*(pca2.explained_variance_)**(0.5)\n",
    "    #print(t)\n",
    "    A=mat(sig_0,theta_0,X2)\n",
    "    g_t = grad_sig(sig_0,A,U2,X2,theta_0)\t\t#computes the gradient of the stochastic function\n",
    "    m_t = beta_1*m_t + (1-beta_1)*g_t\t#updates the moving averages of the gradient\n",
    "    v_t = beta_2*v_t + (1-beta_2)*(g_t*g_t)\t#updates the moving averages of the squared gradient\n",
    "    m_cap = m_t/(1-(beta_1**t))\t\t#calculates the bias-corrected estimates\n",
    "    v_cap = v_t/(1-(beta_2**t))\t\t#calculates the bias-corrected estimates\n",
    "    sig_0_prev = sig_0\n",
    "    sig_0 = sig_0 - (alpha*m_cap)/(np.sqrt(v_cap)+epsilon)#-alpha*(np.random.random()-0.5)\t#updates the parameters\n",
    "    sig_0= sig_0*(sig_0>0)\n",
    "    if(sig_0 == sig_0_prev).all():\t\t#checks if it is converged or not\n",
    "        break\n",
    "print(sig_0)"
   ]
  },
  {
   "cell_type": "code",
   "execution_count": 152,
   "metadata": {},
   "outputs": [],
   "source": [
    "A=mat(np.sqrt(178),theta_0,X3)\n",
    "#print(grad(theta_0,A,X2,U2))  \n",
    "#print(t)\n",
    "#A=mat(theta_0,X2)\n"
   ]
  },
  {
   "cell_type": "code",
   "execution_count": 159,
   "metadata": {},
   "outputs": [],
   "source": [
    "#np.fill_diagonal(A,1)\n",
    "U=np.zeros((178,3))\n",
    "U[prm,tr[prm]]=1\n",
    "from walk_likelihood import *\n",
    "Ws=sum(A)\n",
    "#Ws[:]=178\n",
    "#print(Ws)\n",
    "#Ws[:]=1\n",
    "#Uu=np.random.random((178,3))\n",
    "#ket=walk_likelihood_variable_comms_with_nmf(A,Ws,lm=0)\n",
    "#ket=walk_likelihood_variable_comms_rand(A,Ws,lm=0)\n",
    "ket=walk_likelihood(A,Ws,U,lm=5,max_iter=100)\n"
   ]
  },
  {
   "cell_type": "code",
   "execution_count": 526,
   "metadata": {},
   "outputs": [
    {
     "name": "stdout",
     "output_type": "stream",
     "text": [
      "[[1. 0. 0.]\n",
      " [1. 0. 0.]\n",
      " [1. 0. 0.]\n",
      " [1. 0. 0.]\n",
      " [1. 0. 0.]\n",
      " [1. 0. 0.]\n",
      " [1. 0. 0.]\n",
      " [1. 0. 0.]\n",
      " [1. 0. 0.]\n",
      " [1. 0. 0.]\n",
      " [1. 0. 0.]\n",
      " [1. 0. 0.]\n",
      " [1. 0. 0.]\n",
      " [1. 0. 0.]\n",
      " [1. 0. 0.]\n",
      " [1. 0. 0.]\n",
      " [1. 0. 0.]\n",
      " [1. 0. 0.]\n",
      " [1. 0. 0.]\n",
      " [1. 0. 0.]\n",
      " [1. 0. 0.]\n",
      " [1. 0. 0.]\n",
      " [1. 0. 0.]\n",
      " [1. 0. 0.]\n",
      " [1. 0. 0.]\n",
      " [1. 0. 0.]\n",
      " [1. 0. 0.]\n",
      " [1. 0. 0.]\n",
      " [1. 0. 0.]\n",
      " [1. 0. 0.]\n",
      " [1. 0. 0.]\n",
      " [1. 0. 0.]\n",
      " [1. 0. 0.]\n",
      " [1. 0. 0.]\n",
      " [1. 0. 0.]\n",
      " [1. 0. 0.]\n",
      " [1. 0. 0.]\n",
      " [1. 0. 0.]\n",
      " [1. 0. 0.]\n",
      " [1. 0. 0.]\n",
      " [1. 0. 0.]\n",
      " [1. 0. 0.]\n",
      " [1. 0. 0.]\n",
      " [1. 0. 0.]\n",
      " [1. 0. 0.]\n",
      " [1. 0. 0.]\n",
      " [1. 0. 0.]\n",
      " [1. 0. 0.]\n",
      " [1. 0. 0.]\n",
      " [1. 0. 0.]\n",
      " [1. 0. 0.]\n",
      " [1. 0. 0.]\n",
      " [1. 0. 0.]\n",
      " [1. 0. 0.]\n",
      " [1. 0. 0.]\n",
      " [1. 0. 0.]\n",
      " [1. 0. 0.]\n",
      " [1. 0. 0.]\n",
      " [1. 0. 0.]\n",
      " [0. 1. 0.]\n",
      " [0. 1. 0.]\n",
      " [0. 1. 0.]\n",
      " [0. 1. 0.]\n",
      " [0. 1. 0.]\n",
      " [0. 1. 0.]\n",
      " [0. 1. 0.]\n",
      " [0. 1. 0.]\n",
      " [0. 1. 0.]\n",
      " [0. 1. 0.]\n",
      " [0. 1. 0.]\n",
      " [0. 1. 0.]\n",
      " [0. 1. 0.]\n",
      " [0. 1. 0.]\n",
      " [0. 1. 0.]\n",
      " [0. 1. 0.]\n",
      " [0. 1. 0.]\n",
      " [0. 1. 0.]\n",
      " [0. 1. 0.]\n",
      " [0. 1. 0.]\n",
      " [0. 1. 0.]\n",
      " [0. 1. 0.]\n",
      " [0. 1. 0.]\n",
      " [0. 1. 0.]\n",
      " [0. 1. 0.]\n",
      " [0. 1. 0.]\n",
      " [0. 1. 0.]\n",
      " [0. 1. 0.]\n",
      " [0. 1. 0.]\n",
      " [0. 1. 0.]\n",
      " [0. 1. 0.]\n",
      " [0. 1. 0.]\n",
      " [0. 1. 0.]\n",
      " [0. 1. 0.]\n",
      " [0. 1. 0.]\n",
      " [0. 1. 0.]\n",
      " [0. 1. 0.]\n",
      " [0. 1. 0.]\n",
      " [0. 1. 0.]\n",
      " [0. 1. 0.]\n",
      " [0. 1. 0.]\n",
      " [0. 1. 0.]\n",
      " [0. 1. 0.]\n",
      " [0. 1. 0.]\n",
      " [0. 1. 0.]\n",
      " [0. 1. 0.]\n",
      " [0. 1. 0.]\n",
      " [0. 1. 0.]\n",
      " [0. 1. 0.]\n",
      " [0. 1. 0.]\n",
      " [0. 1. 0.]\n",
      " [0. 1. 0.]\n",
      " [0. 1. 0.]\n",
      " [0. 1. 0.]\n",
      " [0. 1. 0.]\n",
      " [0. 1. 0.]\n",
      " [0. 1. 0.]\n",
      " [0. 1. 0.]\n",
      " [0. 1. 0.]\n",
      " [0. 1. 0.]\n",
      " [0. 1. 0.]\n",
      " [0. 1. 0.]\n",
      " [0. 1. 0.]\n",
      " [0. 1. 0.]\n",
      " [0. 1. 0.]\n",
      " [0. 1. 0.]\n",
      " [0. 1. 0.]\n",
      " [0. 1. 0.]\n",
      " [0. 1. 0.]\n",
      " [0. 1. 0.]\n",
      " [0. 1. 0.]\n",
      " [0. 0. 1.]\n",
      " [0. 0. 1.]\n",
      " [0. 0. 1.]\n",
      " [0. 0. 1.]\n",
      " [0. 0. 1.]\n",
      " [0. 0. 1.]\n",
      " [0. 0. 1.]\n",
      " [0. 0. 1.]\n",
      " [0. 0. 1.]\n",
      " [0. 0. 1.]\n",
      " [0. 0. 1.]\n",
      " [0. 0. 1.]\n",
      " [0. 0. 1.]\n",
      " [0. 0. 1.]\n",
      " [0. 0. 1.]\n",
      " [0. 0. 1.]\n",
      " [0. 0. 1.]\n",
      " [0. 0. 1.]\n",
      " [0. 0. 1.]\n",
      " [0. 0. 1.]\n",
      " [0. 0. 1.]\n",
      " [0. 0. 1.]\n",
      " [0. 0. 1.]\n",
      " [0. 0. 1.]\n",
      " [0. 0. 1.]\n",
      " [0. 0. 1.]\n",
      " [0. 0. 1.]\n",
      " [0. 0. 1.]\n",
      " [0. 0. 1.]\n",
      " [0. 0. 1.]\n",
      " [0. 0. 1.]\n",
      " [0. 0. 1.]\n",
      " [0. 0. 1.]\n",
      " [0. 0. 1.]\n",
      " [0. 0. 1.]\n",
      " [0. 0. 1.]\n",
      " [0. 0. 1.]\n",
      " [0. 0. 1.]\n",
      " [0. 0. 1.]\n",
      " [0. 0. 1.]\n",
      " [0. 0. 1.]\n",
      " [0. 0. 1.]\n",
      " [0. 0. 1.]\n",
      " [0. 0. 1.]\n",
      " [0. 0. 1.]\n",
      " [0. 0. 1.]\n",
      " [0. 0. 1.]\n",
      " [0. 0. 1.]]\n"
     ]
    }
   ],
   "source": [
    "print(U)"
   ]
  },
  {
   "cell_type": "code",
   "execution_count": 160,
   "metadata": {},
   "outputs": [
    {
     "name": "stdout",
     "output_type": "stream",
     "text": [
      "[0 0 0 0 0 0 0 0 0 0 0 0 0 0 0 0 0 0 0 0 0 0 0 0 0 0 0 0 0 0 0 0 0 0 0 0 0\n",
      " 0 0 0 0 0 0 0 0 0 0 0 0 0 0 0 0 0 0 0 0 0 0 2 1 2 2 1 1 1 1 1 2 1 1 0 2 0\n",
      " 1 1 1 1 1 1 1 1 1 1 1 1 1 1 1 1 1 1 1 1 1 1 1 1 1 1 1 1 1 1 1 1 1 1 1 1 1\n",
      " 1 1 1 1 1 1 1 2 1 1 1 1 1 1 1 1 1 1 1 2 2 2 2 2 2 2 2 2 2 2 2 2 2 2 2 2 2\n",
      " 2 2 2 2 2 2 2 2 2 2 2 2 2 2 2 2 2 2 2 2 2 2 2 2 2 2 2 2 2 2]\n",
      "[0 0 0 0 0 0 0 0 0 0 0 0 0 0 0 0 0 0 0 0 0 0 0 0 0 0 0 0 0 0 0 0 0 0 0 0 0\n",
      " 0 0 0 0 0 0 0 0 0 0 0 0 0 0 0 0 0 0 0 0 0 0 1 1 1 1 1 1 1 1 1 1 1 1 1 1 1\n",
      " 1 1 1 1 1 1 1 1 1 1 1 1 1 1 1 1 1 1 1 1 1 1 1 1 1 1 1 1 1 1 1 1 1 1 1 1 1\n",
      " 1 1 1 1 1 1 1 1 1 1 1 1 1 1 1 1 1 1 1 2 2 2 2 2 2 2 2 2 2 2 2 2 2 2 2 2 2\n",
      " 2 2 2 2 2 2 2 2 2 2 2 2 2 2 2 2 2 2 2 2 2 2 2 2 2 2 2 2 2 2]\n",
      "170\n"
     ]
    },
    {
     "data": {
      "text/plain": [
       "0.9464285714285714"
      ]
     },
     "execution_count": 160,
     "metadata": {},
     "output_type": "execute_result"
    }
   ],
   "source": [
    "amx=np.argmax(ket,axis=1)\n",
    "#amx=(amx+1)%3\n",
    "#amx=amx-(amx==1)+(amx==0)\n",
    "print(amx)\n",
    "print(tr)\n",
    "print(sum(amx==tr))\n",
    "#print(U)\n",
    "1/168"
   ]
  },
  {
   "cell_type": "code",
   "execution_count": 508,
   "metadata": {},
   "outputs": [],
   "source": [
    "C=theta_0.dot(np.transpose(theta_0))\n"
   ]
  },
  {
   "cell_type": "code",
   "execution_count": 509,
   "metadata": {},
   "outputs": [
    {
     "name": "stdout",
     "output_type": "stream",
     "text": [
      "[[ 0.4493641   0.24398451  0.31499715 -0.19378736  0.05273937  0.04735725\n",
      "  -0.09103561  0.07248828 -0.08134833  0.45743177 -0.18118099 -0.07942831\n",
      "   0.48826376 -0.05663819  0.10174531  0.23087084 -0.00946351  0.15116664]\n",
      " [ 0.12296672 -0.00408054 -0.07969583 -0.18918048  0.03714878  0.16084503\n",
      "   0.6481022   0.13670328  0.26011637 -0.1312729   0.37009241  0.17281465\n",
      "   0.18133981  0.27803212  0.05234661  0.22425845  0.24277524  0.05349975]]\n",
      "7.806255641895632e-17\n",
      "[10.80957954  4.27114855]\n"
     ]
    }
   ],
   "source": [
    "from sklearn.decomposition import PCA\n",
    "m=2\n",
    "C=theta_0.dot(np.transpose(theta_0))\n",
    "pca2 = PCA(n_components=m)\n",
    "pca2.fit(C)\n",
    "a=(pca2.components_)\n",
    "print(a)\n",
    "print(a[0,:].dot(a[1,:]))\n",
    "print(pca2.explained_variance_)\n"
   ]
  },
  {
   "cell_type": "code",
   "execution_count": 510,
   "metadata": {},
   "outputs": [
    {
     "data": {
      "image/png": "[encoded data removed]",
      "text/plain": [
       "<Figure size 432x288 with 1 Axes>"
      ]
     },
     "metadata": {
      "needs_background": "light"
     },
     "output_type": "display_data"
    }
   ],
   "source": [
    "a2=a*pca2.explained_variance_[:,None]\n",
    "Y=X2.dot(np.transpose(a2))\n",
    "import matplotlib.pyplot as plt\n",
    "plt.scatter(Y[tr==0,0],Y[tr==0,1])\n",
    "plt.scatter(Y[tr==1,0],Y[tr==1,1])\n",
    "plt.scatter(Y[tr==2,0],Y[tr==2,1])\n",
    "plt.xlabel('Component 1')\n",
    "plt.ylabel('Component 2')\n",
    "plt.savefig('effective_pca.png')"
   ]
  },
  {
   "cell_type": "code",
   "execution_count": 24,
   "metadata": {},
   "outputs": [
    {
     "name": "stdout",
     "output_type": "stream",
     "text": [
      "[1.31035660e-01 3.68927682e-02 1.23735156e-02 4.99711877e-03\n",
      " 4.30768239e-03 2.43623518e-03 1.79664024e-03 7.18641492e-04\n",
      " 4.93796575e-04 3.72497370e-04 3.01659821e-04 1.68540782e-04\n",
      " 6.32366721e-05]\n",
      "[1. 1. 1. 1. 1. 1. 1. 1. 1. 1. 1. 1. 1.]\n",
      "[1. 1. 1. 1. 1. 1. 1. 1. 1. 1. 1. 1. 1.]\n"
     ]
    }
   ],
   "source": [
    "import numpy as np\n",
    "from sklearn.decomposition import PCA\n",
    "m=13\n",
    "pca2 = PCA(n_components=m)\n",
    "pca2.fit(X)#[:,0:28])\n",
    "print(pca2.explained_variance_ratio_**2)\n",
    "#a=(pca2.components_*pca2.explained_variance_ratio_[:,None]**0.5)\n",
    "#a=(pca2.components_)*(pca2.explained_variance_ratio_[:,None]**0.5)\n",
    "a=(pca2.components_)#*(pca2.explained_variance_ratio_[:,None])\n",
    "print(np.sum(pca2.components_*pca2.components_,axis=1))\n",
    "print(np.sum(a*a,axis=1))\n",
    "#print(pca2.components_)\n",
    "X=X.dot(np.transpose(a))"
   ]
  },
  {
   "cell_type": "code",
   "execution_count": 187,
   "metadata": {},
   "outputs": [
    {
     "name": "stdout",
     "output_type": "stream",
     "text": [
      "13\n",
      "26\n"
     ]
    }
   ],
   "source": [
    "\n",
    "print(len(X[0,:]))\n",
    "X=np.concatenate((X*(X>0),-X*(X<0)),axis=1)\n",
    "from sklearn.decomposition import NMF\n",
    "model = NMF(n_components=3, init='nndsvda')\n",
    "W = model.fit_transform(X)\n",
    "H = model.components_\n",
    "print(len(H[0,:]))\n",
    "H[:,0:m]=(H[:,0:m]>H[:,m:2*m])*H[:,0:m]\n",
    "H[:,m:2*m]=(H[:,0:m]<H[:,m:2*m])*H[:,m:2*m]\n",
    "model = NMF(n_components=3, init='custom')\n",
    "W = model.fit_transform(X,W=W,H=H)\n",
    "H = model.components_"
   ]
  },
  {
   "cell_type": "code",
   "execution_count": 184,
   "metadata": {},
   "outputs": [
    {
     "name": "stdout",
     "output_type": "stream",
     "text": [
      "[2.43531491 5.22310743 5.31979444]\n"
     ]
    }
   ],
   "source": [
    "print(np.sqrt(sum(W*W)))\n",
    "W=W*sum(W)/sum(W*W)\n",
    "amx=np.argmax(W,axis=1)"
   ]
  },
  {
   "cell_type": "code",
   "execution_count": 99,
   "metadata": {},
   "outputs": [],
   "source": [
    "from sklearn.metrics.cluster import normalized_mutual_info_score as nmi"
   ]
  },
  {
   "cell_type": "code",
   "execution_count": 7,
   "metadata": {},
   "outputs": [],
   "source": [
    "tr=data['target']"
   ]
  },
  {
   "cell_type": "code",
   "execution_count": 352,
   "metadata": {},
   "outputs": [
    {
     "ename": "AxisError",
     "evalue": "axis 1 is out of bounds for array of dimension 1",
     "output_type": "error",
     "traceback": [
      "\u001b[0;31m---------------------------------------------------------------------------\u001b[0m",
      "\u001b[0;31mAxisError\u001b[0m                                 Traceback (most recent call last)",
      "\u001b[0;32m<ipython-input-352-5bb87d594890>\u001b[0m in \u001b[0;36m<module>\u001b[0;34m\u001b[0m\n\u001b[0;32m----> 1\u001b[0;31m \u001b[0mamx\u001b[0m\u001b[0;34m=\u001b[0m\u001b[0mnp\u001b[0m\u001b[0;34m.\u001b[0m\u001b[0margmax\u001b[0m\u001b[0;34m(\u001b[0m\u001b[0mW\u001b[0m\u001b[0;34m,\u001b[0m\u001b[0maxis\u001b[0m\u001b[0;34m=\u001b[0m\u001b[0;36m1\u001b[0m\u001b[0;34m)\u001b[0m\u001b[0;34m\u001b[0m\u001b[0;34m\u001b[0m\u001b[0m\n\u001b[0m\u001b[1;32m      2\u001b[0m \u001b[0mamxx\u001b[0m\u001b[0;34m=\u001b[0m\u001b[0mamx\u001b[0m\u001b[0;34m\u001b[0m\u001b[0;34m\u001b[0m\u001b[0m\n\u001b[1;32m      3\u001b[0m \u001b[0;31m#amxx=amxx-(amxx==1)+(amxx==0)\u001b[0m\u001b[0;34m\u001b[0m\u001b[0;34m\u001b[0m\u001b[0;34m\u001b[0m\u001b[0m\n\u001b[1;32m      4\u001b[0m \u001b[0;31m#amxx=amxx+(amxx==1)-(amxx==2)\u001b[0m\u001b[0;34m\u001b[0m\u001b[0;34m\u001b[0m\u001b[0;34m\u001b[0m\u001b[0m\n\u001b[1;32m      5\u001b[0m \u001b[0;31m#amxx=(amxx-1)%3\u001b[0m\u001b[0;34m\u001b[0m\u001b[0;34m\u001b[0m\u001b[0;34m\u001b[0m\u001b[0m\n",
      "\u001b[0;32m<__array_function__ internals>\u001b[0m in \u001b[0;36margmax\u001b[0;34m(*args, **kwargs)\u001b[0m\n",
      "\u001b[0;32m/usr/local/lib/python3.8/site-packages/numpy/core/fromnumeric.py\u001b[0m in \u001b[0;36margmax\u001b[0;34m(a, axis, out)\u001b[0m\n\u001b[1;32m   1186\u001b[0m \u001b[0;34m\u001b[0m\u001b[0m\n\u001b[1;32m   1187\u001b[0m     \"\"\"\n\u001b[0;32m-> 1188\u001b[0;31m     \u001b[0;32mreturn\u001b[0m \u001b[0m_wrapfunc\u001b[0m\u001b[0;34m(\u001b[0m\u001b[0ma\u001b[0m\u001b[0;34m,\u001b[0m \u001b[0;34m'argmax'\u001b[0m\u001b[0;34m,\u001b[0m \u001b[0maxis\u001b[0m\u001b[0;34m=\u001b[0m\u001b[0maxis\u001b[0m\u001b[0;34m,\u001b[0m \u001b[0mout\u001b[0m\u001b[0;34m=\u001b[0m\u001b[0mout\u001b[0m\u001b[0;34m)\u001b[0m\u001b[0;34m\u001b[0m\u001b[0;34m\u001b[0m\u001b[0m\n\u001b[0m\u001b[1;32m   1189\u001b[0m \u001b[0;34m\u001b[0m\u001b[0m\n\u001b[1;32m   1190\u001b[0m \u001b[0;34m\u001b[0m\u001b[0m\n",
      "\u001b[0;32m/usr/local/lib/python3.8/site-packages/numpy/core/fromnumeric.py\u001b[0m in \u001b[0;36m_wrapfunc\u001b[0;34m(obj, method, *args, **kwds)\u001b[0m\n\u001b[1;32m     56\u001b[0m \u001b[0;34m\u001b[0m\u001b[0m\n\u001b[1;32m     57\u001b[0m     \u001b[0;32mtry\u001b[0m\u001b[0;34m:\u001b[0m\u001b[0;34m\u001b[0m\u001b[0;34m\u001b[0m\u001b[0m\n\u001b[0;32m---> 58\u001b[0;31m         \u001b[0;32mreturn\u001b[0m \u001b[0mbound\u001b[0m\u001b[0;34m(\u001b[0m\u001b[0;34m*\u001b[0m\u001b[0margs\u001b[0m\u001b[0;34m,\u001b[0m \u001b[0;34m**\u001b[0m\u001b[0mkwds\u001b[0m\u001b[0;34m)\u001b[0m\u001b[0;34m\u001b[0m\u001b[0;34m\u001b[0m\u001b[0m\n\u001b[0m\u001b[1;32m     59\u001b[0m     \u001b[0;32mexcept\u001b[0m \u001b[0mTypeError\u001b[0m\u001b[0;34m:\u001b[0m\u001b[0;34m\u001b[0m\u001b[0;34m\u001b[0m\u001b[0m\n\u001b[1;32m     60\u001b[0m         \u001b[0;31m# A TypeError occurs if the object does have such a method in its\u001b[0m\u001b[0;34m\u001b[0m\u001b[0;34m\u001b[0m\u001b[0;34m\u001b[0m\u001b[0m\n",
      "\u001b[0;31mAxisError\u001b[0m: axis 1 is out of bounds for array of dimension 1"
     ]
    }
   ],
   "source": [
    "amx=np.argmax(W,axis=1)\n",
    "amxx=amx\n",
    "#amxx=amxx-(amxx==1)+(amxx==0)\n",
    "#amxx=amxx+(amxx==1)-(amxx==2)\n",
    "#amxx=(amxx-1)%3\n",
    "amxx=amxx-1\n",
    "amxx+=(amxx==-1)*3\n",
    "#amxx\n",
    "print(amx)\n",
    "print(sum(amxx==tr))\n",
    "print(len(tr))"
   ]
  },
  {
   "cell_type": "code",
   "execution_count": 86,
   "metadata": {},
   "outputs": [
    {
     "name": "stdout",
     "output_type": "stream",
     "text": [
      "[[1.         0.97071257 0.9985286  ... 0.15830428 0.16129029 0.09934261]\n",
      " [0.97071257 1.         0.98231213 ... 0.15366796 0.15656651 0.09643312]\n",
      " [0.9985286  0.98231213 1.         ... 0.15807135 0.16105296 0.09919643]\n",
      " ...\n",
      " [0.15830428 0.15366796 0.15807135 ... 1.         0.99999543 0.9982324 ]\n",
      " [0.16129029 0.15656651 0.16105296 ... 0.99999543 1.         0.99804806]\n",
      " [0.09934261 0.09643312 0.09919643 ... 0.9982324  0.99804806 1.        ]]\n"
     ]
    }
   ],
   "source": [
    "W=W/np.sqrt(np.sum(W*W,axis=1))[:,None]\n",
    "Y=W.dot(np.transpose(W))\n",
    "print(Y)"
   ]
  },
  {
   "cell_type": "code",
   "execution_count": 90,
   "metadata": {},
   "outputs": [],
   "source": [
    "model = NMF(n_components=3, init='nndsvda')\n",
    "W = model.fit_transform(Y)\n",
    "H = model.components_"
   ]
  },
  {
   "cell_type": "code",
   "execution_count": 94,
   "metadata": {},
   "outputs": [
    {
     "name": "stdout",
     "output_type": "stream",
     "text": [
      "[0 0 0 0 0 0 0 0 0 0 0 0 0 0 0 0 0 0 0 0 0 0 0 0 0 2 0 0 0 0 0 0 0 0 0 0 0\n",
      " 0 0 0 0 0 0 0 0 0 0 0 0 0 0 0 0 0 0 0 0 0 0 2 2 1 2 2 2 2 2 2 2 2 2 2 2 0\n",
      " 2 2 2 2 2 2 2 2 2 1 2 2 2 2 2 2 2 2 2 2 2 0 2 2 0 2 2 2 2 2 2 2 2 2 2 2 2\n",
      " 2 2 2 2 2 2 2 1 2 2 2 2 2 2 2 2 2 2 2 1 1 1 1 1 1 1 1 1 1 1 1 1 1 1 1 1 1\n",
      " 1 1 1 1 1 1 1 1 1 1 1 1 1 1 1 1 1 1 1 1 1 1 1 1 1 1 1 1 1 1]\n",
      "171\n",
      "178\n"
     ]
    }
   ],
   "source": [
    "W=W*sum(W)/sum(W*W)\n",
    "amx=np.argmax(W,axis=1)\n",
    "amxx=amx\n",
    "#amxx=amxx-(amxx==1)+(amxx==0)\n",
    "#amxx=(amxx-1)%3\n",
    "amxx=amxx-(amxx==2)+(amxx==1)\n",
    "#amxx\n",
    "print(amx)\n",
    "print(sum(amxx==tr))\n",
    "print(len(tr))"
   ]
  },
  {
   "cell_type": "code",
   "execution_count": 86,
   "metadata": {},
   "outputs": [],
   "source": [
    "N=178\n",
    "dis=np.zeros((N,N))\n",
    "hs=[]\n",
    "ms=[]\n",
    "for i in range(13):\n",
    "    ms.append([])\n",
    "for i in range(N):\n",
    "    for j in range(N):\n",
    "        dis[i,j]=(sum((X[i,0:13]-X[j,0:13])**2))**0.5\n",
    "        #dis[i,j]=(sum(abs(X[i,0:13]-X[j,0:13])))\n",
    "        hs.append(dis[i,j])\n",
    "        for k in range(13):\n",
    "            ms[k].append(abs(X[i,k]-X[j,k])**2)\n",
    "import matplotlib.pyplot as plt\n",
    "#plt.hist(hs,bins=40)\n",
    "#plt.show()\n",
    "#for i in range(13):\n",
    "#    plt.hist(ms[i],bins=20)\n",
    "#    plt.show()"
   ]
  },
  {
   "cell_type": "code",
   "execution_count": 11,
   "metadata": {},
   "outputs": [
    {
     "name": "stdout",
     "output_type": "stream",
     "text": [
      "1.9999999999999991\n",
      "1.9999999999999998\n",
      "2.0000000000000013\n",
      "2.0\n",
      "1.9999999999999998\n",
      "2.0000000000000013\n",
      "2.000000000000001\n",
      "1.9999999999999998\n",
      "2.000000000000001\n",
      "2.0000000000000004\n",
      "2.0000000000000004\n",
      "1.9999999999999993\n",
      "2.0000000000000013\n"
     ]
    },
    {
     "data": {
      "text/plain": [
       "26.000000000000004"
      ]
     },
     "execution_count": 11,
     "metadata": {},
     "output_type": "execute_result"
    }
   ],
   "source": [
    "for i in range(13):\n",
    "    print(np.mean(np.array(ms[i])))\n",
    "np.mean(dis*dis) "
   ]
  },
  {
   "cell_type": "code",
   "execution_count": 1181,
   "metadata": {},
   "outputs": [
    {
     "data": {
      "image/png": "[encoded data removed]",
      "text/plain": [
       "<Figure size 432x288 with 1 Axes>"
      ]
     },
     "metadata": {
      "needs_background": "light"
     },
     "output_type": "display_data"
    }
   ],
   "source": [
    "plt.scatter(X[:,0],X[:,3])\n",
    "plt.show()"
   ]
  },
  {
   "cell_type": "code",
   "execution_count": 87,
   "metadata": {},
   "outputs": [
    {
     "name": "stdout",
     "output_type": "stream",
     "text": [
      "178\n",
      "0\n"
     ]
    }
   ],
   "source": [
    "Z=dis<4.1\n",
    "kt=np.zeros(178)\n",
    "kt[0]=1\n",
    "for i in range(200):\n",
    "    kt=Z.dot(kt)>0\n",
    "print(sum(kt))\n",
    "print(np.argmin(kt))"
   ]
  },
  {
   "cell_type": "code",
   "execution_count": 1318,
   "metadata": {},
   "outputs": [],
   "source": [
    "\n",
    "#Z=np.exp(-dis/100000)\n",
    "#Z=np.max(dis)-dis\n",
    "#Z=(dis<2)*np.exp(-dis**2/5)\n",
    "#Z=np.exp(-dis**2/25)\n",
    "#Z=4.05-dis\n",
    "#Z[Z<0]=0\n",
    "#Z=np.exp(-dis**2/6)\n",
    "#sig=np.mean(dis,axis=1)\n",
    "Z=np.exp((-dis**2/sig)/sig[:,None])\n",
    "#Z=0.8*np.mean(dis,axis=1)-dis\n",
    "#Z[Z<0]=0\n",
    "#Z[Z>0]=1\n",
    "#Z=np.exp(-dis/200)\n",
    "#print(Z)"
   ]
  },
  {
   "cell_type": "code",
   "execution_count": null,
   "metadata": {},
   "outputs": [],
   "source": []
  },
  {
   "cell_type": "code",
   "execution_count": 88,
   "metadata": {},
   "outputs": [
    {
     "name": "stdout",
     "output_type": "stream",
     "text": [
      "[[1.         0.14694263 0.26180294 ... 0.         0.         0.        ]\n",
      " [0.14694263 1.         0.         ... 0.         0.         0.        ]\n",
      " [0.26180294 0.         1.         ... 0.         0.         0.        ]\n",
      " ...\n",
      " [0.         0.         0.         ... 1.         0.55458101 0.17255725]\n",
      " [0.         0.         0.         ... 0.55458101 1.         0.1892009 ]\n",
      " [0.         0.         0.         ... 0.17255725 0.1892009  1.        ]]\n",
      "3\n",
      "3\n",
      "3\n",
      "3\n"
     ]
    }
   ],
   "source": [
    "\n",
    "Z=X[:,0:13].dot(np.transpose(X[:,0:13]))\n",
    "Z=4.1-dis\n",
    "#Z=(13-dis)\n",
    "#print(D)\n",
    "#Zz=-Z\n",
    "#Zz[Zz<0]=0\n",
    "Z[Z<0]=0\n",
    "#Z=Z*Z#+Zz.dot(Zz)\n",
    "D=np.sqrt(np.diagonal(Z))\n",
    "\n",
    "Z=Z/D\n",
    "Z=Z/D[:,None]\n",
    "#Z[Z<0]=0\n",
    "#Z=dis\n",
    "#Z=(dis**2).dot(dis**2)\n",
    "#np.fill_diagonal(Z,0)\n",
    "print(Z)\n",
    "from walk_likelihood import *\n",
    "Ws=sum(Z)\n",
    "#Ws[:]=178\n",
    "#print(Ws)\n",
    "#Ws[:]=1\n",
    "ket=walk_likelihood_variable_comms_with_nmf(Z,Ws,lm=0)\n",
    "#ket=walk_likelihood_variable_comms_with_nmf(Z,Ws,lm=0)\n",
    "#ket=np.zeros((178,3))\n",
    "#ket[range(178),tr]=1\n",
    "\n",
    "#ket=walk_likelihood_variable_comms_rand(Z,Ws,twice=1)\n",
    "#ket=walk_likelihood_variable_comms_rand(Z,Ws,lm=0)#,ket=ket)"
   ]
  },
  {
   "cell_type": "code",
   "execution_count": null,
   "metadata": {},
   "outputs": [],
   "source": []
  },
  {
   "cell_type": "code",
   "execution_count": null,
   "metadata": {},
   "outputs": [],
   "source": []
  },
  {
   "cell_type": "code",
   "execution_count": 90,
   "metadata": {},
   "outputs": [
    {
     "name": "stdout",
     "output_type": "stream",
     "text": [
      "[0 0 0 0 0 0 0 0 0 0 0 0 0 0 0 0 0 0 0 0 0 0 0 0 0 0 0 0 0 0 0 0 0 0 0 0 0\n",
      " 0 0 0 0 0 0 0 0 0 0 0 0 0 0 0 0 0 0 0 0 0 0 1 1 1 1 1 1 1 1 1 1 0 1 0 1 0\n",
      " 1 1 1 1 0 1 1 1 1 2 1 1 1 1 1 1 1 1 1 1 1 0 2 1 1 1 1 1 1 1 1 1 1 1 1 1 1\n",
      " 1 1 1 1 1 1 1 2 1 1 0 1 1 1 1 1 1 1 1 2 2 2 2 2 2 2 2 2 2 2 2 2 2 2 2 2 2\n",
      " 2 2 2 2 2 2 2 2 2 2 2 2 2 2 2 2 2 2 2 2 2 2 2 2 2 2 2 2 2 2]\n",
      "169\n"
     ]
    }
   ],
   "source": [
    "amx=np.argmax(ket,axis=1)\n",
    "amxx=amx\n",
    "#amxx=amxx-3*(amxx==3)+(amxx==0)-(amxx==2)+(amxx==1)\n",
    "#amxx=amxx-(amxx==1)+(amxx==0)\n",
    "#amxx=amxx+(amxx==1)-(amxx==2)\n",
    "#amxx=amxx+2*(amxx==0)-2*(amxx==2)\n",
    "#amxx=amxx-2*(amxx==3)-3*(amxx==4)\n",
    "#amxx=(amxx+1)%3\n",
    "#amxx=(amxx-1)%3\n",
    "#amxx=amxx-1\n",
    "#amxx+=(amxx==-1)*3\n",
    "#amxx\n",
    "print(amxx)\n",
    "print(sum(amxx==tr))\n",
    "#print((tr))"
   ]
  },
  {
   "cell_type": "code",
   "execution_count": 1188,
   "metadata": {},
   "outputs": [
    {
     "name": "stdout",
     "output_type": "stream",
     "text": [
      "17.28966183859767\n",
      "12.459556201347825\n",
      "12.870490356425861\n"
     ]
    }
   ],
   "source": [
    "for i in range(3):\n",
    "    a=np.array(range(178))[amx==i]\n",
    "    print(np.mean(dis[a,:][:,a]*dis[a,:][:,a]))"
   ]
  },
  {
   "cell_type": "code",
   "execution_count": 1014,
   "metadata": {},
   "outputs": [
    {
     "data": {
      "image/png": "[encoded data removed]",
      "text/plain": [
       "<Figure size 432x288 with 1 Axes>"
      ]
     },
     "metadata": {
      "needs_background": "light"
     },
     "output_type": "display_data"
    }
   ],
   "source": [
    "59+71+48\n",
    "plt.bar(range(59),amxx[tr==0])\n",
    "plt.bar(range(59,59+71),amxx[tr==1])\n",
    "plt.bar(range(59+71,59+71+48),amxx[tr==2])\n",
    "plt.show()"
   ]
  },
  {
   "cell_type": "code",
   "execution_count": 399,
   "metadata": {},
   "outputs": [
    {
     "data": {
      "text/plain": [
       "178"
      ]
     },
     "execution_count": 399,
     "metadata": {},
     "output_type": "execute_result"
    }
   ],
   "source": [
    "sum(amxx==amxxc)"
   ]
  },
  {
   "cell_type": "code",
   "execution_count": 391,
   "metadata": {},
   "outputs": [],
   "source": [
    "amxxc=amxx"
   ]
  },
  {
   "cell_type": "code",
   "execution_count": 136,
   "metadata": {},
   "outputs": [
    {
     "name": "stdout",
     "output_type": "stream",
     "text": [
      "[[ 1.         -0.70790011 -0.35808105]\n",
      " [-0.70790011  1.         -0.40148911]\n",
      " [-0.35808105 -0.40148911  1.        ]]\n"
     ]
    },
    {
     "name": "stderr",
     "output_type": "stream",
     "text": [
      "<ipython-input-136-7d4655d25cdf>:2: RuntimeWarning: invalid value encountered in sqrt\n",
      "  F=F/np.diagonal(np.sqrt(np.dot(F,np.transpose(F))))[:,None]\n"
     ]
    }
   ],
   "source": [
    "F=H[:,0:13]-H[:,13:26]\n",
    "F=F/np.diagonal(np.sqrt(np.dot(F,np.transpose(F))))[:,None]\n",
    "print(np.dot(F,np.transpose(F)))"
   ]
  },
  {
   "cell_type": "code",
   "execution_count": 122,
   "metadata": {},
   "outputs": [
    {
     "ename": "KeyError",
     "evalue": "\"['prior_mi' 'prior_pci' 'prior_cabg' 'prior_stroke' 'date_time_zero'\\n 'kaplan_meier_mi_date' 'kaplan_meier_hf_date' 'kaplan_meier_death_date'\\n 'date_alive' 'study_id' 'withdrawn' 'study_cat' 'nstemi_type'] not found in axis\"",
     "output_type": "error",
     "traceback": [
      "\u001b[0;31m---------------------------------------------------------------------------\u001b[0m",
      "\u001b[0;31mKeyError\u001b[0m                                  Traceback (most recent call last)",
      "\u001b[0;32m<ipython-input-122-81384462b126>\u001b[0m in \u001b[0;36m<module>\u001b[0;34m\u001b[0m\n\u001b[1;32m      1\u001b[0m \u001b[0;32mimport\u001b[0m \u001b[0mpandas\u001b[0m \u001b[0;32mas\u001b[0m \u001b[0mpd\u001b[0m\u001b[0;34m\u001b[0m\u001b[0;34m\u001b[0m\u001b[0m\n\u001b[1;32m      2\u001b[0m \u001b[0mdf\u001b[0m \u001b[0;34m=\u001b[0m \u001b[0mpd\u001b[0m\u001b[0;34m.\u001b[0m\u001b[0mread_csv\u001b[0m\u001b[0;34m(\u001b[0m\u001b[0;34m\"Merged data for clustering_V2.csv\"\u001b[0m\u001b[0;34m)\u001b[0m\u001b[0;34m\u001b[0m\u001b[0;34m\u001b[0m\u001b[0m\n\u001b[0;32m----> 3\u001b[0;31m \u001b[0mdf\u001b[0m \u001b[0;34m=\u001b[0m \u001b[0mdf\u001b[0m\u001b[0;34m.\u001b[0m\u001b[0mdrop\u001b[0m\u001b[0;34m(\u001b[0m\u001b[0mcolumns\u001b[0m \u001b[0;34m=\u001b[0m \u001b[0;34m[\u001b[0m\u001b[0;34m'prior_mi'\u001b[0m\u001b[0;34m,\u001b[0m\u001b[0;34m'prior_pci'\u001b[0m\u001b[0;34m,\u001b[0m\u001b[0;34m'prior_cabg'\u001b[0m\u001b[0;34m,\u001b[0m\u001b[0;34m'prior_stroke'\u001b[0m\u001b[0;34m,\u001b[0m\u001b[0;34m'date_time_zero'\u001b[0m\u001b[0;34m,\u001b[0m\u001b[0;34m'kaplan_meier_mi_date'\u001b[0m\u001b[0;34m,\u001b[0m\u001b[0;34m'kaplan_meier_hf_date'\u001b[0m\u001b[0;34m,\u001b[0m\u001b[0;34m'kaplan_meier_death_date'\u001b[0m\u001b[0;34m,\u001b[0m\u001b[0;34m'date_alive'\u001b[0m\u001b[0;34m,\u001b[0m\u001b[0;34m'study_id'\u001b[0m\u001b[0;34m,\u001b[0m\u001b[0;34m'withdrawn'\u001b[0m\u001b[0;34m,\u001b[0m\u001b[0;34m'study_cat'\u001b[0m\u001b[0;34m,\u001b[0m\u001b[0;34m'nstemi_type'\u001b[0m\u001b[0;34m]\u001b[0m\u001b[0;34m)\u001b[0m\u001b[0;34m\u001b[0m\u001b[0;34m\u001b[0m\u001b[0m\n\u001b[0m\u001b[1;32m      4\u001b[0m \u001b[0mA\u001b[0m \u001b[0;34m=\u001b[0m \u001b[0mdf\u001b[0m\u001b[0;34m.\u001b[0m\u001b[0mcorr\u001b[0m\u001b[0;34m(\u001b[0m\u001b[0;34m)\u001b[0m\u001b[0;34m\u001b[0m\u001b[0;34m\u001b[0m\u001b[0m\n\u001b[1;32m      5\u001b[0m \u001b[0;32mfrom\u001b[0m \u001b[0mpylab\u001b[0m \u001b[0;32mimport\u001b[0m \u001b[0;34m*\u001b[0m\u001b[0;34m\u001b[0m\u001b[0;34m\u001b[0m\u001b[0m\n",
      "\u001b[0;32m/usr/local/lib/python3.8/site-packages/pandas/core/frame.py\u001b[0m in \u001b[0;36mdrop\u001b[0;34m(self, labels, axis, index, columns, level, inplace, errors)\u001b[0m\n\u001b[1;32m   4303\u001b[0m                 \u001b[0mweight\u001b[0m  \u001b[0;36m1.0\u001b[0m     \u001b[0;36m0.8\u001b[0m\u001b[0;34m\u001b[0m\u001b[0;34m\u001b[0m\u001b[0m\n\u001b[1;32m   4304\u001b[0m         \"\"\"\n\u001b[0;32m-> 4305\u001b[0;31m         return super().drop(\n\u001b[0m\u001b[1;32m   4306\u001b[0m             \u001b[0mlabels\u001b[0m\u001b[0;34m=\u001b[0m\u001b[0mlabels\u001b[0m\u001b[0;34m,\u001b[0m\u001b[0;34m\u001b[0m\u001b[0;34m\u001b[0m\u001b[0m\n\u001b[1;32m   4307\u001b[0m             \u001b[0maxis\u001b[0m\u001b[0;34m=\u001b[0m\u001b[0maxis\u001b[0m\u001b[0;34m,\u001b[0m\u001b[0;34m\u001b[0m\u001b[0;34m\u001b[0m\u001b[0m\n",
      "\u001b[0;32m/usr/local/lib/python3.8/site-packages/pandas/core/generic.py\u001b[0m in \u001b[0;36mdrop\u001b[0;34m(self, labels, axis, index, columns, level, inplace, errors)\u001b[0m\n\u001b[1;32m   4148\u001b[0m         \u001b[0;32mfor\u001b[0m \u001b[0maxis\u001b[0m\u001b[0;34m,\u001b[0m \u001b[0mlabels\u001b[0m \u001b[0;32min\u001b[0m \u001b[0maxes\u001b[0m\u001b[0;34m.\u001b[0m\u001b[0mitems\u001b[0m\u001b[0;34m(\u001b[0m\u001b[0;34m)\u001b[0m\u001b[0;34m:\u001b[0m\u001b[0;34m\u001b[0m\u001b[0;34m\u001b[0m\u001b[0m\n\u001b[1;32m   4149\u001b[0m             \u001b[0;32mif\u001b[0m \u001b[0mlabels\u001b[0m \u001b[0;32mis\u001b[0m \u001b[0;32mnot\u001b[0m \u001b[0;32mNone\u001b[0m\u001b[0;34m:\u001b[0m\u001b[0;34m\u001b[0m\u001b[0;34m\u001b[0m\u001b[0m\n\u001b[0;32m-> 4150\u001b[0;31m                 \u001b[0mobj\u001b[0m \u001b[0;34m=\u001b[0m \u001b[0mobj\u001b[0m\u001b[0;34m.\u001b[0m\u001b[0m_drop_axis\u001b[0m\u001b[0;34m(\u001b[0m\u001b[0mlabels\u001b[0m\u001b[0;34m,\u001b[0m \u001b[0maxis\u001b[0m\u001b[0;34m,\u001b[0m \u001b[0mlevel\u001b[0m\u001b[0;34m=\u001b[0m\u001b[0mlevel\u001b[0m\u001b[0;34m,\u001b[0m \u001b[0merrors\u001b[0m\u001b[0;34m=\u001b[0m\u001b[0merrors\u001b[0m\u001b[0;34m)\u001b[0m\u001b[0;34m\u001b[0m\u001b[0;34m\u001b[0m\u001b[0m\n\u001b[0m\u001b[1;32m   4151\u001b[0m \u001b[0;34m\u001b[0m\u001b[0m\n\u001b[1;32m   4152\u001b[0m         \u001b[0;32mif\u001b[0m \u001b[0minplace\u001b[0m\u001b[0;34m:\u001b[0m\u001b[0;34m\u001b[0m\u001b[0;34m\u001b[0m\u001b[0m\n",
      "\u001b[0;32m/usr/local/lib/python3.8/site-packages/pandas/core/generic.py\u001b[0m in \u001b[0;36m_drop_axis\u001b[0;34m(self, labels, axis, level, errors)\u001b[0m\n\u001b[1;32m   4183\u001b[0m                 \u001b[0mnew_axis\u001b[0m \u001b[0;34m=\u001b[0m \u001b[0maxis\u001b[0m\u001b[0;34m.\u001b[0m\u001b[0mdrop\u001b[0m\u001b[0;34m(\u001b[0m\u001b[0mlabels\u001b[0m\u001b[0;34m,\u001b[0m \u001b[0mlevel\u001b[0m\u001b[0;34m=\u001b[0m\u001b[0mlevel\u001b[0m\u001b[0;34m,\u001b[0m \u001b[0merrors\u001b[0m\u001b[0;34m=\u001b[0m\u001b[0merrors\u001b[0m\u001b[0;34m)\u001b[0m\u001b[0;34m\u001b[0m\u001b[0;34m\u001b[0m\u001b[0m\n\u001b[1;32m   4184\u001b[0m             \u001b[0;32melse\u001b[0m\u001b[0;34m:\u001b[0m\u001b[0;34m\u001b[0m\u001b[0;34m\u001b[0m\u001b[0m\n\u001b[0;32m-> 4185\u001b[0;31m                 \u001b[0mnew_axis\u001b[0m \u001b[0;34m=\u001b[0m \u001b[0maxis\u001b[0m\u001b[0;34m.\u001b[0m\u001b[0mdrop\u001b[0m\u001b[0;34m(\u001b[0m\u001b[0mlabels\u001b[0m\u001b[0;34m,\u001b[0m \u001b[0merrors\u001b[0m\u001b[0;34m=\u001b[0m\u001b[0merrors\u001b[0m\u001b[0;34m)\u001b[0m\u001b[0;34m\u001b[0m\u001b[0;34m\u001b[0m\u001b[0m\n\u001b[0m\u001b[1;32m   4186\u001b[0m             \u001b[0mresult\u001b[0m \u001b[0;34m=\u001b[0m \u001b[0mself\u001b[0m\u001b[0;34m.\u001b[0m\u001b[0mreindex\u001b[0m\u001b[0;34m(\u001b[0m\u001b[0;34m**\u001b[0m\u001b[0;34m{\u001b[0m\u001b[0maxis_name\u001b[0m\u001b[0;34m:\u001b[0m \u001b[0mnew_axis\u001b[0m\u001b[0;34m}\u001b[0m\u001b[0;34m)\u001b[0m\u001b[0;34m\u001b[0m\u001b[0;34m\u001b[0m\u001b[0m\n\u001b[1;32m   4187\u001b[0m \u001b[0;34m\u001b[0m\u001b[0m\n",
      "\u001b[0;32m/usr/local/lib/python3.8/site-packages/pandas/core/indexes/base.py\u001b[0m in \u001b[0;36mdrop\u001b[0;34m(self, labels, errors)\u001b[0m\n\u001b[1;32m   5589\u001b[0m         \u001b[0;32mif\u001b[0m \u001b[0mmask\u001b[0m\u001b[0;34m.\u001b[0m\u001b[0many\u001b[0m\u001b[0;34m(\u001b[0m\u001b[0;34m)\u001b[0m\u001b[0;34m:\u001b[0m\u001b[0;34m\u001b[0m\u001b[0;34m\u001b[0m\u001b[0m\n\u001b[1;32m   5590\u001b[0m             \u001b[0;32mif\u001b[0m \u001b[0merrors\u001b[0m \u001b[0;34m!=\u001b[0m \u001b[0;34m\"ignore\"\u001b[0m\u001b[0;34m:\u001b[0m\u001b[0;34m\u001b[0m\u001b[0;34m\u001b[0m\u001b[0m\n\u001b[0;32m-> 5591\u001b[0;31m                 \u001b[0;32mraise\u001b[0m \u001b[0mKeyError\u001b[0m\u001b[0;34m(\u001b[0m\u001b[0;34mf\"{labels[mask]} not found in axis\"\u001b[0m\u001b[0;34m)\u001b[0m\u001b[0;34m\u001b[0m\u001b[0;34m\u001b[0m\u001b[0m\n\u001b[0m\u001b[1;32m   5592\u001b[0m             \u001b[0mindexer\u001b[0m \u001b[0;34m=\u001b[0m \u001b[0mindexer\u001b[0m\u001b[0;34m[\u001b[0m\u001b[0;34m~\u001b[0m\u001b[0mmask\u001b[0m\u001b[0;34m]\u001b[0m\u001b[0;34m\u001b[0m\u001b[0;34m\u001b[0m\u001b[0m\n\u001b[1;32m   5593\u001b[0m         \u001b[0;32mreturn\u001b[0m \u001b[0mself\u001b[0m\u001b[0;34m.\u001b[0m\u001b[0mdelete\u001b[0m\u001b[0;34m(\u001b[0m\u001b[0mindexer\u001b[0m\u001b[0;34m)\u001b[0m\u001b[0;34m\u001b[0m\u001b[0;34m\u001b[0m\u001b[0m\n",
      "\u001b[0;31mKeyError\u001b[0m: \"['prior_mi' 'prior_pci' 'prior_cabg' 'prior_stroke' 'date_time_zero'\\n 'kaplan_meier_mi_date' 'kaplan_meier_hf_date' 'kaplan_meier_death_date'\\n 'date_alive' 'study_id' 'withdrawn' 'study_cat' 'nstemi_type'] not found in axis\""
     ]
    }
   ],
   "source": [
    "import pandas as pd\n",
    "df = pd.read_csv(\"Merged data for clustering_V2.csv\")\n",
    "df = df.drop(columns = ['prior_mi','prior_pci','prior_cabg','prior_stroke','date_time_zero','kaplan_meier_mi_date','kaplan_meier_hf_date','kaplan_meier_death_date','date_alive','study_id','withdrawn','study_cat','nstemi_type'])\n",
    "A = df.corr()\n",
    "from pylab import *\n",
    "figure(1)\n",
    "imshow(A,interpolation = 'nearest')"
   ]
  },
  {
   "cell_type": "code",
   "execution_count": 78,
   "metadata": {},
   "outputs": [],
   "source": [
    "import pandas as pd\n",
    "df = pd.read_csv(\"cars.csv\")\n",
    "df2=df.copy()\n",
    "df2=df2.drop(df.columns[0:3],axis=1)\n",
    "a=df2.to_numpy()\n",
    "a=a[:,0:-1]\n",
    "#print(a)"
   ]
  },
  {
   "cell_type": "code",
   "execution_count": 79,
   "metadata": {},
   "outputs": [
    {
     "name": "stdout",
     "output_type": "stream",
     "text": [
      "[1. 1. 1. 1. 1.]\n"
     ]
    }
   ],
   "source": [
    "import numpy as np\n",
    "mu=np.mean(a,axis=0)\n",
    "len(mu)\n",
    "import numpy as np \n",
    "a=(a-mu)/np.std(a,axis=0)\n",
    "print(np.std(a,axis=0))"
   ]
  },
  {
   "cell_type": "code",
   "execution_count": 80,
   "metadata": {},
   "outputs": [
    {
     "name": "stdout",
     "output_type": "stream",
     "text": [
      "[6.88779050e-01 1.68485697e-02 4.88455096e-04 1.96979313e-04\n",
      " 1.70971657e-05]\n"
     ]
    }
   ],
   "source": [
    "import numpy as np\n",
    "from sklearn.decomposition import PCA\n",
    "pca2 = PCA(n_components=5)\n",
    "pca2.fit(a)#[:,0:28])\n",
    "print(pca2.explained_variance_ratio_**2)\n",
    "#a=(pca2.components_*pca2.explained_variance_ratio_[:,None]**0.5)\n",
    "#a=(pca2.components_)*(pca2.explained_variance_ratio_[:,None]**0.5)\n",
    "b=(pca2.components_)#*(pca2.explained_variance_ratio_[:,None])\n",
    "a=a.dot(np.transpose(b))"
   ]
  },
  {
   "cell_type": "code",
   "execution_count": 107,
   "metadata": {},
   "outputs": [
    {
     "name": "stdout",
     "output_type": "stream",
     "text": [
      "38\n",
      "[[0.         1.15514873 1.90435458 ... 4.41438433 4.4541926  6.40487869]\n",
      " [1.15514873 0.         1.55856748 ... 4.53352168 4.57040332 6.39869916]\n",
      " [1.90435458 1.55856748 0.         ... 3.08325852 3.12650972 4.87563791]\n",
      " ...\n",
      " [4.41438433 4.53352168 3.08325852 ... 0.         0.66652123 2.32722437]\n",
      " [4.4541926  4.57040332 3.12650972 ... 0.66652123 0.         2.4433169 ]\n",
      " [6.40487869 6.39869916 4.87563791 ... 2.32722437 2.4433169  0.        ]]\n"
     ]
    }
   ],
   "source": [
    "Y=np.dot(a,np.transpose(a))\n",
    "Y=-2*Y+np.diagonal(Y)+np.diagonal(Y)[:,None]\n",
    "Y=np.sqrt(Y)\n",
    "print(len(Y[:,0]))\n",
    "print(Y)"
   ]
  },
  {
   "cell_type": "code",
   "execution_count": 108,
   "metadata": {},
   "outputs": [
    {
     "name": "stdout",
     "output_type": "stream",
     "text": [
      "0\n",
      "2\n",
      "3\n",
      "1\n",
      "3\n",
      "3\n",
      "2\n",
      "3\n",
      "3\n",
      "3\n"
     ]
    }
   ],
   "source": [
    "#Y[Y<0]=0\n",
    "#Z=Z*Z#+Zz.dot(Zz)\n",
    "#D=np.sqrt(np.diagonal(Y))\n",
    "\n",
    "#Y=Y/D\n",
    "#Y=Y/D[:,None]\n",
    "#Z[Z<0]=0\n",
    "#Z=dis\n",
    "#Z=(dis**2).dot(dis**2)\n",
    "#np.fill_diagonal(Y,0)\n",
    "Y=np.exp(-0.0000001*Y)\n",
    "#print(Y)\n",
    "from walk_likelihood import *\n",
    "Ws=sum(Y)\n",
    "#Ws[:]=178\n",
    "#print(Ws)\n",
    "#Ws[:]=1\n",
    "#ket=walk_likelihood_variable_comms_with_nmf(Y,Ws,lm=0)\n",
    "#ket=walk_likelihood_variable_comms_with_nmf(Z,Ws,lm=0)\n",
    "#ket=np.zeros((178,3))\n",
    "#ket[range(178),tr]=1\n",
    "\n",
    "#ket=walk_likelihood_variable_comms_rand(Z,Ws,twice=1)\n",
    "ket=walk_likelihood_variable_comms_rand(Y,Ws,lm=0)#,ket=ket)"
   ]
  },
  {
   "cell_type": "code",
   "execution_count": 109,
   "metadata": {},
   "outputs": [
    {
     "name": "stdout",
     "output_type": "stream",
     "text": [
      "[0 0 0 0 1 1 1 1 2 2 2 2 0 2 0 0 0 0 0 0 1 2 1 1 1 1 1 2 2 2 1 1 1 1 1 2 2\n",
      " 1]\n"
     ]
    }
   ],
   "source": [
    "amx=np.argmax(ket,axis=1)\n",
    "print((amx))"
   ]
  },
  {
   "cell_type": "code",
   "execution_count": 111,
   "metadata": {},
   "outputs": [
    {
     "name": "stdout",
     "output_type": "stream",
     "text": [
      "[0. 0. 0. 0. 0. 0. 0. 0. 0. 0.]\n"
     ]
    }
   ],
   "source": [
    "a=np.zeros(10)\n",
    "print(a)"
   ]
  }
 ],
 "metadata": {
  "kernelspec": {
   "display_name": "Python 3",
   "language": "python",
   "name": "python3"
  },
  "language_info": {
   "codemirror_mode": {
    "name": "ipython",
    "version": 3
   },
   "file_extension": ".py",
   "mimetype": "text/x-python",
   "name": "python",
   "nbconvert_exporter": "python",
   "pygments_lexer": "ipython3",
   "version": "3.8.5"
  }
 },
 "nbformat": 4,
 "nbformat_minor": 4
}
